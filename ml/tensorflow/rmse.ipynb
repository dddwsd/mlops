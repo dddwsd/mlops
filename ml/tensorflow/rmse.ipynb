{
 "cells": [
  {
   "cell_type": "code",
   "execution_count": 1,
   "id": "94fe8364",
   "metadata": {},
   "outputs": [
    {
     "name": "stdout",
     "output_type": "stream",
     "text": [
      "2.5.0\n",
      "tf.Tensor(\n",
      "[[[-0.05873085]]\n",
      "\n",
      " [[-0.05842877]]\n",
      "\n",
      " [[-0.00893894]]\n",
      "\n",
      " [[ 0.00072724]]], shape=(4, 1, 1), dtype=float32)\n",
      "tf.Tensor(\n",
      "[[[3.4493129e-03]]\n",
      "\n",
      " [[3.4139210e-03]]\n",
      "\n",
      " [[7.9904567e-05]]\n",
      "\n",
      " [[5.2887987e-07]]], shape=(4, 1, 1), dtype=float32)\n"
     ]
    },
    {
     "data": {
      "text/plain": [
       "<tf.Tensor: shape=(), dtype=float32, numpy=0.041664336>"
      ]
     },
     "execution_count": 1,
     "metadata": {},
     "output_type": "execute_result"
    }
   ],
   "source": [
    "import tensorflow as tf\n",
    "import math\n",
    "\n",
    "print(tf.__version__)\n",
    "\n",
    "targets = tf.constant([[[0]],[[0]],[[0]],[[0]]])\n",
    "predictions = tf.constant([[[-0.0587308519]],[[-0.0584287681]],[[-0.00893893559]],[[0.000727241277]]])\n",
    "targets = tf.cast(targets, dtype=tf.float32)\n",
    "predictions = tf.cast(predictions, dtype=tf.float32)\n",
    "weights = tf.constant([[[1]], [[1]], [[1]], [[1]]], dtype=tf.float32)\n",
    "\n",
    "print(predictions - targets)\n",
    "l2_loss = tf.pow(predictions - targets, 2)\n",
    "print(l2_loss*weights)\n",
    "rmse = tf.sqrt(tf.reduce_sum(l2_loss * weights) / tf.reduce_sum(weights))\n",
    "\n",
    "rmse"
   ]
  },
  {
   "cell_type": "code",
   "execution_count": null,
   "id": "6beaafd9",
   "metadata": {},
   "outputs": [],
   "source": []
  }
 ],
 "metadata": {
  "kernelspec": {
   "display_name": "Python 3",
   "language": "python",
   "name": "python3"
  },
  "language_info": {
   "codemirror_mode": {
    "name": "ipython",
    "version": 3
   },
   "file_extension": ".py",
   "mimetype": "text/x-python",
   "name": "python",
   "nbconvert_exporter": "python",
   "pygments_lexer": "ipython3",
   "version": "3.7.9"
  }
 },
 "nbformat": 4,
 "nbformat_minor": 5
}
