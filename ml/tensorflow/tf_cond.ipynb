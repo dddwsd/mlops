{
 "cells": [
  {
   "cell_type": "code",
   "execution_count": 4,
   "id": "a3d47a8d",
   "metadata": {},
   "outputs": [
    {
     "name": "stdout",
     "output_type": "stream",
     "text": [
      "tf.Tensor(10, shape=(), dtype=int64)\n",
      "tf.Tensor(10, shape=(), dtype=int64)\n",
      "(1, 2)\n"
     ]
    }
   ],
   "source": [
    "import tensorflow as tf\n",
    "\n",
    "a = tf.constant(11, dtype=tf.int64)\n",
    "b = tf.constant(10, dtype=tf.int64)\n",
    "\n",
    "# https://www.tensorflow.org/api_docs/python/tf/cond\n",
    "# true일 경우 a, false일 경우 b 반환\n",
    "result = tf.cond(a<b, lambda: a, lambda: b)\n",
    "print(result)\n",
    "\n",
    "pick = tf.random.uniform([],minval=b, maxval=a, dtype=tf.int64)\n",
    "print(pick)\n",
    "\n",
    "fn = lambda: (1,2)\n",
    "print(fn())\n"
   ]
  },
  {
   "cell_type": "code",
   "execution_count": null,
   "id": "e8f4bd8d",
   "metadata": {},
   "outputs": [],
   "source": []
  }
 ],
 "metadata": {
  "kernelspec": {
   "display_name": "Python 3",
   "language": "python",
   "name": "python3"
  },
  "language_info": {
   "codemirror_mode": {
    "name": "ipython",
    "version": 3
   },
   "file_extension": ".py",
   "mimetype": "text/x-python",
   "name": "python",
   "nbconvert_exporter": "python",
   "pygments_lexer": "ipython3",
   "version": "3.7.9"
  }
 },
 "nbformat": 4,
 "nbformat_minor": 5
}
