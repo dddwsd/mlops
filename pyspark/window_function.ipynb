{
 "cells": [
  {
   "cell_type": "code",
   "execution_count": 1,
   "id": "51e46d44",
   "metadata": {},
   "outputs": [
    {
     "name": "stdout",
     "output_type": "stream",
     "text": [
      "+-----+--------+-----+----+\n",
      "|value|currency|click|rank|\n",
      "+-----+--------+-----+----+\n",
      "|30000|     krw|    1|   1|\n",
      "|20000|     krw|    0|   2|\n",
      "|   30|     usd|    1|   1|\n",
      "|   20|     usd|    0|   2|\n",
      "|   10|     usd|    1|   3|\n",
      "+-----+--------+-----+----+\n",
      "\n",
      "+--------+--------+\n",
      "|currency|max_rank|\n",
      "+--------+--------+\n",
      "|     krw|       2|\n",
      "|     usd|       3|\n",
      "+--------+--------+\n",
      "\n"
     ]
    }
   ],
   "source": [
    "from pyspark.sql import window\n",
    "from pyspark.sql import functions\n",
    "\n",
    "client_window = window.Window.partitionBy('currency').orderBy(functions.desc('value'))\n",
    "\n",
    "valuesA = [\n",
    "    (10, 'usd', 1),\n",
    "    (20, 'usd', 0),\n",
    "    (20000, 'krw', 0),\n",
    "    (30000, 'krw', 1),\n",
    "    (30, 'usd', 1),\n",
    "]\n",
    "\n",
    "df = spark.createDataFrame(valuesA,['value','currency','click'])\n",
    "df = df.withColumn('rank', functions.row_number().over(client_window))\n",
    "df.show()\n",
    "\n",
    "temp = df.groupBy('currency').agg(functions.max('rank').alias('max_rank'))\n",
    "temp.show()"
   ]
  },
  {
   "cell_type": "code",
   "execution_count": null,
   "id": "bac89c73",
   "metadata": {},
   "outputs": [],
   "source": []
  }
 ],
 "metadata": {
  "kernelspec": {
   "display_name": "Python 3",
   "language": "python",
   "name": "python3"
  },
  "language_info": {
   "codemirror_mode": {
    "name": "ipython",
    "version": 3
   },
   "file_extension": ".py",
   "mimetype": "text/x-python",
   "name": "python",
   "nbconvert_exporter": "python",
   "pygments_lexer": "ipython3",
   "version": "3.7.9"
  }
 },
 "nbformat": 4,
 "nbformat_minor": 5
}
