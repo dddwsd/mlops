{
 "cells": [
  {
   "cell_type": "code",
   "execution_count": 8,
   "id": "2726dfd5",
   "metadata": {},
   "outputs": [
    {
     "name": "stdout",
     "output_type": "stream",
     "text": [
      "+-----+--------+-----+\n",
      "|value|currency|click|\n",
      "+-----+--------+-----+\n",
      "|   10|     usd|    1|\n",
      "|   20|     usd|    0|\n",
      "|20000|     krw|    0|\n",
      "|30000|     krw|    1|\n",
      "|   30|     usd|    1|\n",
      "+-----+--------+-----+\n",
      "\n"
     ]
    }
   ],
   "source": [
    "# https://spark.apache.org/docs/latest/api/python/reference/pyspark.sql.html#spark-session-apis\n",
    "\n",
    "import os\n",
    "from pyspark import sql\n",
    "\n",
    "spark = sql.SparkSession.builder.appName(\"apis\").master(\"local\").getOrCreate()\n",
    "\n",
    "\n",
    "valuesA = [\n",
    "    (10, 'usd', 1),\n",
    "    (20, 'usd', 0),\n",
    "    (20000, 'krw', 0),\n",
    "    (30000, 'krw', 1),\n",
    "    (30, 'usd', 1),\n",
    "]\n",
    "\n",
    "df = spark.createDataFrame(valuesA,['value','currency','click'])\n",
    "df.show()\n"
   ]
  },
  {
   "cell_type": "code",
   "execution_count": null,
   "id": "e35c3847",
   "metadata": {},
   "outputs": [],
   "source": []
  }
 ],
 "metadata": {
  "kernelspec": {
   "display_name": "Python 3",
   "language": "python",
   "name": "python3"
  },
  "language_info": {
   "codemirror_mode": {
    "name": "ipython",
    "version": 3
   },
   "file_extension": ".py",
   "mimetype": "text/x-python",
   "name": "python",
   "nbconvert_exporter": "python",
   "pygments_lexer": "ipython3",
   "version": "3.7.9"
  }
 },
 "nbformat": 4,
 "nbformat_minor": 5
}
