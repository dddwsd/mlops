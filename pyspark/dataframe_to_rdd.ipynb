{
 "cells": [
  {
   "cell_type": "code",
   "execution_count": 9,
   "id": "32f46df8",
   "metadata": {},
   "outputs": [
    {
     "name": "stdout",
     "output_type": "stream",
     "text": [
      "dataframe collect = [Row(value=10, currency='usd', click=1), Row(value=20, currency='usd', click=0), Row(value=20000, currency='krw', click=0), Row(value=30000, currency='krw', click=1), Row(value=30, currency='usd', click=1)]\n",
      "value = 10 currency = usd click = 1\n",
      "value = 20 currency = usd click = 0\n",
      "value = 20000 currency = krw click = 0\n",
      "value = 30000 currency = krw click = 1\n",
      "value = 30 currency = usd click = 1\n",
      "rdd flatmap collect = [10, 'usd', 1, 20, 'usd', 0, 20000, 'krw', 0, 30000, 'krw', 1, 30, 'usd', 1]\n",
      "rdd map collect = [Row(value=10, currency='usd', click=1), Row(value=20, currency='usd', click=0), Row(value=20000, currency='krw', click=0), Row(value=30000, currency='krw', click=1), Row(value=30, currency='usd', click=1)]\n"
     ]
    }
   ],
   "source": [
    "# https://spark.apache.org/docs/latest/api/python/reference/api/pyspark.RDD.html\n",
    "\n",
    "from pyspark.sql import functions\n",
    "\n",
    "\n",
    "valuesA = [\n",
    "    (10, 'usd', 1),\n",
    "    (20, 'usd', 0),\n",
    "    (20000, 'krw', 0),\n",
    "    (30000, 'krw', 1),\n",
    "    (30, 'usd', 1),\n",
    "]\n",
    "\n",
    "df = spark.createDataFrame(valuesA,['value','currency','click'])\n",
    "\n",
    "# dataframe에 collect을 사용하면 row element를 가진 array return\n",
    "# 따라서 실제 값을 사용하기 위해서는 for loop을 통해 해당 값을 꺼내야 함\n",
    "print(f'dataframe collect = {df.collect()}')\n",
    "for row in df.collect():\n",
    "    print(f\"value = {row['value']} currency = {row['currency']} click = {row['click']}\")\n",
    "\n",
    "# Convert dataframe to RDD\n",
    "# flatMap을 사용하면 rdd의 모든 요소에 lambda를 적용한 결과를 flatten 시켜서 return\n",
    "df_flatmap_rdd = df.rdd.flatMap(lambda x:x)\n",
    "print(f'rdd flatmap collect = {df_flatmap_rdd.collect()}')\n",
    "\n",
    "# 그냥 map은 collect와 동일한 결과.\n",
    "df_map_rdd = df.rdd.map(lambda x:x)\n",
    "print(f'rdd map collect = {df_map_rdd.collect()}')\n"
   ]
  },
  {
   "cell_type": "code",
   "execution_count": null,
   "id": "7123ecea",
   "metadata": {},
   "outputs": [],
   "source": []
  }
 ],
 "metadata": {
  "kernelspec": {
   "display_name": "Python 3",
   "language": "python",
   "name": "python3"
  },
  "language_info": {
   "codemirror_mode": {
    "name": "ipython",
    "version": 3
   },
   "file_extension": ".py",
   "mimetype": "text/x-python",
   "name": "python",
   "nbconvert_exporter": "python",
   "pygments_lexer": "ipython3",
   "version": "3.7.9"
  }
 },
 "nbformat": 4,
 "nbformat_minor": 5
}
