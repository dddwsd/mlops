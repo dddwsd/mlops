{
 "cells": [
  {
   "cell_type": "code",
   "execution_count": 21,
   "id": "265e0336",
   "metadata": {},
   "outputs": [
    {
     "name": "stdout",
     "output_type": "stream",
     "text": [
      "['DCT', 'category', 'category_weight', 'doc_id', 'entity', 'sentence', 'title']\n",
      "+--------------------+---------------------+--------------------+\n",
      "|              doc_id|             sentence|              entity|\n",
      "+--------------------+---------------------+--------------------+\n",
      "|E2016.788.01_A_01...|[{[{0, 0, 0, 0, 올...|[{thing, , 0, [{1...|\n",
      "+--------------------+---------------------+--------------------+\n",
      "\n"
     ]
    }
   ],
   "source": [
    "import os\n",
    "import glob\n",
    "\n",
    "from pyspark import sql\n",
    "from pyspark.sql import types\n",
    "from pyspark.sql import functions\n",
    "\n",
    "spark = sql.SparkSession.builder.appName(\"json\").master(\"local\").getOrCreate()\n",
    "\n",
    "files = glob.glob('/nas0/conversation/datasets/ko/finetune/aiopen.etri/001_CR/E2016.788.01_A_01.json')\n",
    "\n",
    "df = spark.read.json(files, multiLine=True)\n",
    "print(df.columns)\n",
    "df = df.select(['doc_id', 'sentence', 'entity'])\n",
    "df.show()"
   ]
  },
  {
   "cell_type": "code",
   "execution_count": null,
   "id": "b6f45893",
   "metadata": {},
   "outputs": [],
   "source": []
  }
 ],
 "metadata": {
  "kernelspec": {
   "display_name": "Python 3",
   "language": "python",
   "name": "python3"
  },
  "language_info": {
   "codemirror_mode": {
    "name": "ipython",
    "version": 3
   },
   "file_extension": ".py",
   "mimetype": "text/x-python",
   "name": "python",
   "nbconvert_exporter": "python",
   "pygments_lexer": "ipython3",
   "version": "3.7.9"
  }
 },
 "nbformat": 4,
 "nbformat_minor": 5
}
